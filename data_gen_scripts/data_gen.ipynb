{
 "cells": [
  {
   "attachments": {},
   "cell_type": "markdown",
   "id": "a8bdea6e",
   "metadata": {},
   "source": [
    "## 1. Required Imports"
   ]
  },
  {
   "cell_type": "code",
   "execution_count": 33,
   "id": "b2b46529-872e-4595-9368-e018f350fe80",
   "metadata": {},
   "outputs": [],
   "source": [
    "import random\n",
    "import string\n",
    "import pandas as pd\n",
    "from datetime import datetime, timedelta"
   ]
  },
  {
   "attachments": {},
   "cell_type": "markdown",
   "id": "75ac2162",
   "metadata": {},
   "source": [
    "## 2. Read the existing data from the CSV file"
   ]
  },
  {
   "cell_type": "code",
   "execution_count": 34,
   "id": "187ef38c",
   "metadata": {},
   "outputs": [],
   "source": [
    "\n",
    "existing_data = pd.read_csv('../datasets/existing_data.csv')"
   ]
  },
  {
   "attachments": {},
   "cell_type": "markdown",
   "id": "ca64ecb6",
   "metadata": {},
   "source": [
    "## 3. Generate Synthetic data based on the existing data "
   ]
  },
  {
   "cell_type": "code",
   "execution_count": 35,
   "id": "f0fc4a22",
   "metadata": {},
   "outputs": [],
   "source": [
    "total_records = 1000000  # Adjust the total number of records as needed\n",
    "order_numbers = ['OID-' + ''.join(random.choices(string.digits, k=6)) for _ in range(total_records)]\n",
    "start_date = datetime(2017, 1, 1)\n",
    "end_date = datetime(2022, 12, 31)\n",
    "total_days = (end_date - start_date).days + 1\n",
    "transaction_dates = [(start_date + timedelta(days=i)).strftime('%Y-%m-%d') for i in range(total_days)]\n",
    "customer_ids = ['CID-' + ''.join(random.choices(string.digits, k=6)) for _ in range(5000)]\n",
    "\n",
    "# Generating synthetic data\n",
    "data = []\n",
    "for i in range(total_records):\n",
    "    order_number = order_numbers[i]\n",
    "    transaction_date = random.choice(transaction_dates)\n",
    "    customer_id = random.choice(customer_ids)\n",
    "\n",
    "    # Randomly select a row from the existing data\n",
    "    existing_row = existing_data.sample(n=1, replace=True).squeeze()\n",
    "    product = existing_row['ProductName']\n",
    "    manufacturer = existing_row['Manufacturer']\n",
    "    qty = int(existing_row['Quantity'])\n",
    "\n",
    "    # Generate a 6-digit product ID\n",
    "    product_id = 'PID-' + ''.join(random.choices(string.digits, k=6))\n",
    "\n",
    "    data.append([order_number, transaction_date, customer_id, product_id, qty, product, manufacturer])"
   ]
  },
  {
   "attachments": {},
   "cell_type": "markdown",
   "id": "e78c3867",
   "metadata": {},
   "source": [
    "## 4. Sort the generated data w.r.t date"
   ]
  },
  {
   "cell_type": "code",
   "execution_count": 36,
   "id": "307deb6a-f956-4b5d-97d2-f6e6a39ee4c7",
   "metadata": {},
   "outputs": [],
   "source": [
    "data.sort(key=lambda x: x[1])"
   ]
  },
  {
   "attachments": {},
   "cell_type": "markdown",
   "id": "205dd657",
   "metadata": {},
   "source": [
    "## 5. Create a dataframe with the generated data"
   ]
  },
  {
   "cell_type": "code",
   "execution_count": 37,
   "id": "90d7492c",
   "metadata": {},
   "outputs": [],
   "source": [
    "df = pd.DataFrame(data, columns=['OrderNumber', 'TransactionDate', 'CustomerID', 'ProductID', 'Quantity',\n",
    "                                 'ProductName', 'Manufacturer'])"
   ]
  },
  {
   "attachments": {},
   "cell_type": "markdown",
   "id": "4745e2aa",
   "metadata": {},
   "source": [
    "## 6. Write the dataframe to excel file with yearly data into seperate sheets"
   ]
  },
  {
   "cell_type": "code",
   "execution_count": 38,
   "id": "6b4816e5",
   "metadata": {},
   "outputs": [],
   "source": [
    "writer = pd.ExcelWriter('../datasets/sales_data_latest.xlsx', engine='xlsxwriter')\n",
    "year_groups = df.groupby(df['TransactionDate'].str[:4])\n",
    "for year, group in year_groups:\n",
    "    year_sheet_name = f'{year} sales'\n",
    "    group.to_excel(writer, sheet_name=year_sheet_name, index=False)\n",
    "writer.save()"
   ]
  }
 ],
 "metadata": {
  "kernelspec": {
   "display_name": "Python 3 (ipykernel)",
   "language": "python",
   "name": "python3"
  },
  "language_info": {
   "codemirror_mode": {
    "name": "ipython",
    "version": 3
   },
   "file_extension": ".py",
   "mimetype": "text/x-python",
   "name": "python",
   "nbconvert_exporter": "python",
   "pygments_lexer": "ipython3",
   "version": "3.9.12"
  }
 },
 "nbformat": 4,
 "nbformat_minor": 5
}
