{
 "cells": [
  {
   "attachments": {},
   "cell_type": "markdown",
   "id": "a8bdea6e",
   "metadata": {},
   "source": [
    "## 1. Required Imports"
   ]
  },
  {
   "cell_type": "code",
   "execution_count": 8,
   "id": "b2b46529-872e-4595-9368-e018f350fe80",
   "metadata": {},
   "outputs": [],
   "source": [
    "import random\n",
    "import string\n",
    "import pandas as pd\n",
    "from datetime import datetime, timedelta"
   ]
  },
  {
   "attachments": {},
   "cell_type": "markdown",
   "id": "75ac2162",
   "metadata": {},
   "source": [
    "## 2. Define the lists of products and brands"
   ]
  },
  {
   "cell_type": "code",
   "execution_count": 15,
   "id": "187ef38c",
   "metadata": {},
   "outputs": [],
   "source": [
    "\n",
    "products = [\"SSD\", \"Mouse\", \"Printer\", \"HiFi Headset\", \"Gaming Mouse\", \"Keyboard\", \"Bluetooth Headset\", \"Monitor\",\n",
    "            \"RAM\", \"Mechanical Keyboard\", \"Cooler\", \"Motherboard\"]\n",
    "brands = [\"Dell\", \"HP\", \"Microsoft\", \"Lenovo\", \"Logitech\", \"Apple\", \"Acer\", \"BoAt\"]"
   ]
  },
  {
   "attachments": {},
   "cell_type": "markdown",
   "id": "080da3cf",
   "metadata": {},
   "source": [
    "## Define the special days (holidays) for each year"
   ]
  },
  {
   "cell_type": "code",
   "execution_count": 16,
   "id": "eb6a4f0b",
   "metadata": {},
   "outputs": [],
   "source": [
    "special_days = {\n",
    "    \"2017\": [\"01/01/2017\", \"26/01/2017\", \"14/02/2017\", \"15/08/2017\", \"02/10/2017\", \"25/12/2017\"],\n",
    "    \"2018\": [\"01/01/2018\", \"26/01/2018\", \"14/02/2018\", \"15/08/2018\", \"02/10/2018\", \"25/12/2018\"],\n",
    "    \"2019\": [\"01/01/2019\", \"26/01/2019\", \"14/02/2019\", \"15/08/2019\", \"02/10/2019\", \"25/12/2019\"],\n",
    "    \"2020\": [\"01/01/2020\", \"26/01/2020\", \"14/02/2020\", \"15/08/2020\", \"02/10/2020\", \"25/12/2020\"],\n",
    "    \"2021\": [\"01/01/2021\", \"26/01/2021\", \"14/02/2021\", \"15/08/2021\", \"02/10/2021\", \"25/12/2021\"],\n",
    "    \"2022\": [\"01/01/2022\", \"26/01/2022\", \"14/02/2022\", \"15/08/2022\", \"02/10/2022\", \"25/12/2022\"],\n",
    "    \"2023\": [\"01/01/2023\", \"26/01/2023\", \"14/02/2023\", \"15/08/2023\", \"02/10/2023\", \"25/12/2023\"]\n",
    "}"
   ]
  },
  {
   "attachments": {},
   "cell_type": "markdown",
   "id": "2b057507",
   "metadata": {},
   "source": [
    "## Define the price limits for each product"
   ]
  },
  {
   "cell_type": "code",
   "execution_count": 17,
   "id": "57c0ba0b",
   "metadata": {},
   "outputs": [],
   "source": [
    "\n",
    "price_limits = {\n",
    "    \"SSD\": (5125, 7480),\n",
    "    \"Mouse\": (150, 350),\n",
    "    \"Printer\": (8000, 15000),\n",
    "    \"HiFi Headset\": (2000, 4000),\n",
    "    \"Gaming Mouse\": (2500, 4500),\n",
    "    \"Keyboard\": (1000, 2500),\n",
    "    \"Bluetooth Headset\": (1500, 3000),\n",
    "    \"Monitor\": (10000, 18000),\n",
    "    \"RAM\": (4000, 9000),\n",
    "    \"Mechanical Keyboard\": (1500, 3000),\n",
    "    \"Cooler\": (2000, 5000),\n",
    "    \"Motherboard\": (3000, 6000)\n",
    "}\n"
   ]
  },
  {
   "attachments": {},
   "cell_type": "markdown",
   "id": "ca64ecb6",
   "metadata": {},
   "source": [
    "## 3. Generate Synthetic data "
   ]
  },
  {
   "cell_type": "code",
   "execution_count": 24,
   "id": "d91af957",
   "metadata": {},
   "outputs": [],
   "source": [
    "total_records = 10000  # Adjust the total number of records as needed\n",
    "order_ids = ['OID-' + ''.join(random.choices(string.digits, k=6)) for _ in range(total_records)]\n",
    "product_ids = ['PID-' + ''.join(random.choices(string.digits, k=6)) for _ in range(total_records)]\n",
    "customer_ids = ['CID-' + ''.join(random.choices(string.digits, k=6)) for _ in range(total_records)]\n",
    "\n",
    "data = []\n",
    "\n",
    "start_date = datetime(2017, 1, 1)\n",
    "end_date = datetime(2023, 2, 13)\n",
    "total_days = (end_date - start_date).days + 1\n",
    "\n",
    "for i in range(total_records):\n",
    "    order_id = order_ids[i]\n",
    "    product_id = product_ids[i]\n",
    "    customer_id = customer_ids[i]\n",
    "\n",
    "    product = random.choice(products)\n",
    "    brand = random.choice(brands)\n",
    "\n",
    "    sale_date = start_date + timedelta(days=random.randint(0, total_days - 1))\n",
    "    sale_date_str = sale_date.strftime(\"%d/%m/%Y\")\n",
    "\n",
    "    year = str(sale_date.year)\n",
    "    special_day = sale_date_str in special_days[year]\n",
    "\n",
    "    # Price calculation\n",
    "    price_limit_min, price_limit_max = price_limits[product]\n",
    "    price = round(random.uniform(price_limit_min, price_limit_max), 2)\n",
    "\n",
    "    # Quantity and Total Price\n",
    "    quantity = random.randint(1, 30)\n",
    "    total_price = price * quantity\n",
    "\n",
    "    # Append the data row\n",
    "    data.append([order_id, product_id, customer_id, product, brand, sale_date_str, price, quantity, total_price,\n",
    "                 special_day])\n"
   ]
  },
  {
   "attachments": {},
   "cell_type": "markdown",
   "id": "205dd657",
   "metadata": {},
   "source": [
    "## 5. Create a dataframe with the generated data"
   ]
  },
  {
   "cell_type": "code",
   "execution_count": 25,
   "id": "90d7492c",
   "metadata": {},
   "outputs": [],
   "source": [
    "# Create a DataFrame from the generated data\n",
    "df = pd.DataFrame(data, columns=[\"Order ID\", \"Product ID\", \"Customer ID\", \"Product\", \"Brand\", \"Sale Date\", \"Unit Price\",\n",
    "                                 \"Quantity\", \"Total Price\", \"Special Day\"])\n",
    "\n",
    "# Sort the data by Sale Date\n",
    "df.sort_values(by=\"Sale Date\", inplace=True)"
   ]
  },
  {
   "attachments": {},
   "cell_type": "markdown",
   "id": "4745e2aa",
   "metadata": {},
   "source": [
    "## 6. Write the dataframe to excel file with yearly data into seperate sheets"
   ]
  },
  {
   "cell_type": "code",
   "execution_count": 26,
   "id": "6b4816e5",
   "metadata": {},
   "outputs": [
    {
     "name": "stdout",
     "output_type": "stream",
     "text": [
      "Data saved successfully.\n"
     ]
    }
   ],
   "source": [
    "# Write to Excel file with separate sheets for each year's sales\n",
    "writer = pd.ExcelWriter('sales_data_latest_lite.xlsx', engine='xlsxwriter')\n",
    "year_groups = df.groupby(df['Sale Date'].str[-4:])\n",
    "for year, group in year_groups:\n",
    "    year_sheet_name = year + ' sales'\n",
    "    group.to_excel(writer, sheet_name=year_sheet_name, index=False)\n",
    "writer.save()\n",
    "print(\"Data saved successfully.\")"
   ]
  }
 ],
 "metadata": {
  "kernelspec": {
   "display_name": "Python 3 (ipykernel)",
   "language": "python",
   "name": "python3"
  },
  "language_info": {
   "codemirror_mode": {
    "name": "ipython",
    "version": 3
   },
   "file_extension": ".py",
   "mimetype": "text/x-python",
   "name": "python",
   "nbconvert_exporter": "python",
   "pygments_lexer": "ipython3",
   "version": "3.9.12"
  }
 },
 "nbformat": 4,
 "nbformat_minor": 5
}
